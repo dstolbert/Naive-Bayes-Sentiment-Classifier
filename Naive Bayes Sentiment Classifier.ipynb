{
 "cells": [
  {
   "cell_type": "code",
   "execution_count": 1,
   "metadata": {},
   "outputs": [],
   "source": [
    "import numpy as np\n",
    "import pandas as pd\n",
    "import scipy\n",
    "import sklearn\n",
    "import matplotlib.pyplot as plt\n",
    "import seaborn as sns\n",
    "%matplotlib inline"
   ]
  },
  {
   "cell_type": "code",
   "execution_count": 241,
   "metadata": {},
   "outputs": [],
   "source": [
    "filepath = '/home/derek/Thinkful/Data/yelp_labelled.txt'\n",
    "\n",
    "yelp_df = pd.read_table(filepath, sep='\\t', names=('Comment', 'Sentiment'),\n",
    "                   dtype={'Comment': np.str, 'Sentiment': np.int64})"
   ]
  },
  {
   "cell_type": "code",
   "execution_count": 242,
   "metadata": {},
   "outputs": [
    {
     "data": {
      "text/html": [
       "<div>\n",
       "<style scoped>\n",
       "    .dataframe tbody tr th:only-of-type {\n",
       "        vertical-align: middle;\n",
       "    }\n",
       "\n",
       "    .dataframe tbody tr th {\n",
       "        vertical-align: top;\n",
       "    }\n",
       "\n",
       "    .dataframe thead th {\n",
       "        text-align: right;\n",
       "    }\n",
       "</style>\n",
       "<table border=\"1\" class=\"dataframe\">\n",
       "  <thead>\n",
       "    <tr style=\"text-align: right;\">\n",
       "      <th></th>\n",
       "      <th>Comment</th>\n",
       "      <th>Sentiment</th>\n",
       "    </tr>\n",
       "  </thead>\n",
       "  <tbody>\n",
       "    <tr>\n",
       "      <th>0</th>\n",
       "      <td>Wow... Loved this place.</td>\n",
       "      <td>1</td>\n",
       "    </tr>\n",
       "    <tr>\n",
       "      <th>1</th>\n",
       "      <td>Crust is not good.</td>\n",
       "      <td>0</td>\n",
       "    </tr>\n",
       "    <tr>\n",
       "      <th>2</th>\n",
       "      <td>Not tasty and the texture was just nasty.</td>\n",
       "      <td>0</td>\n",
       "    </tr>\n",
       "    <tr>\n",
       "      <th>3</th>\n",
       "      <td>Stopped by during the late May bank holiday of...</td>\n",
       "      <td>1</td>\n",
       "    </tr>\n",
       "    <tr>\n",
       "      <th>4</th>\n",
       "      <td>The selection on the menu was great and so wer...</td>\n",
       "      <td>1</td>\n",
       "    </tr>\n",
       "  </tbody>\n",
       "</table>\n",
       "</div>"
      ],
      "text/plain": [
       "                                             Comment  Sentiment\n",
       "0                           Wow... Loved this place.          1\n",
       "1                                 Crust is not good.          0\n",
       "2          Not tasty and the texture was just nasty.          0\n",
       "3  Stopped by during the late May bank holiday of...          1\n",
       "4  The selection on the menu was great and so wer...          1"
      ]
     },
     "execution_count": 242,
     "metadata": {},
     "output_type": "execute_result"
    }
   ],
   "source": [
    "yelp_df.head()"
   ]
  },
  {
   "cell_type": "code",
   "execution_count": 251,
   "metadata": {},
   "outputs": [],
   "source": [
    "#Creating features\n",
    "\n",
    "df2 = yelp_df.copy()\n",
    "\n",
    "keywords = ['amazing', 'love', 'recommend', 'great', 'pleasure', 'good','excellent', 'happy','impressed', \n",
    "            'fav', 'enjoy', 'wow', '!', 'awesome', 'nice', 'regular']\n",
    "\n",
    "for key in keywords:\n",
    "    df2[key] = df['Comment'].str.contains(key, case=False)\n",
    "        \n",
    "#Create column of comment lengths\n",
    "\n",
    "for i in range(len(df2['Comment'])):\n",
    "    df2.loc[i,'length'] = len(df2.loc[i,'Comment'])\n",
    "    \n",
    "#Create columns of comment length quartiles, drop length column\n",
    "\n",
    "df2['len_q1'] = df2.length < df2.length.quantile(0.25)\n",
    "df2['len_q2'] = (df2.length > df2.length.quantile(0.25)) & (df2.length < df2.length.quantile(0.5))\n",
    "df2['len_q3'] = (df2.length > df2.length.quantile(0.5)) & (df2.length < df2.length.quantile(0.75))\n",
    "df2['len_q4'] = df2.length > df2.length.quantile(0.75)\n",
    "\n",
    "df2.drop(columns='length', inplace=True)"
   ]
  },
  {
   "cell_type": "code",
   "execution_count": 245,
   "metadata": {},
   "outputs": [
    {
     "data": {
      "image/png": "[encoded data removed]",
      "text/plain": [
       "<Figure size 720x720 with 2 Axes>"
      ]
     },
     "metadata": {
      "needs_background": "light"
     },
     "output_type": "display_data"
    }
   ],
   "source": [
    "#Check for independence of variables\n",
    "\n",
    "plt.figure(figsize=(10,10))\n",
    "corrs = df2.corr()\n",
    "sns.heatmap(corrs, square=True)\n",
    "plt.show()"
   ]
  },
  {
   "cell_type": "markdown",
   "metadata": {},
   "source": [
    "The length quartile variables should have small negative correlations as these features are not independent, these will be included anyways as the correlations are small."
   ]
  },
  {
   "cell_type": "code",
   "execution_count": 252,
   "metadata": {},
   "outputs": [
    {
     "data": {
      "text/plain": [
       "71.6"
      ]
     },
     "execution_count": 252,
     "metadata": {},
     "output_type": "execute_result"
    }
   ],
   "source": [
    "#Seperate into inputs and outputs, create model, predict\n",
    "\n",
    "data = df2[keywords + ['len_q1', 'len_q2', 'len_q3', 'len_q4']]\n",
    "target = df2['Sentiment']\n",
    "\n",
    "#Target variable is binomial, use Bernoulli Naive Bayes model\n",
    "\n",
    "from sklearn.naive_bayes import BernoulliNB\n",
    "\n",
    "bnb = BernoulliNB()\n",
    "\n",
    "#Fit data to model\n",
    "bnb.fit(data, target)\n",
    "\n",
    "#Make predictions\n",
    "\n",
    "predicted = bnb.predict(data)\n",
    "\n",
    "#Test predicted vs actual for each comment in df\n",
    "\n",
    "accuracy = df2['Sentiment'] == predicted\n",
    "accuracy.sum()/len(accuracy)*100"
   ]
  },
  {
   "cell_type": "markdown",
   "metadata": {},
   "source": [
    "# Testing the classifier against Amazon dataset"
   ]
  },
  {
   "cell_type": "code",
   "execution_count": 248,
   "metadata": {},
   "outputs": [],
   "source": [
    "filepath = '/home/derek/Thinkful/Data/amazon_cells_labelled.txt'\n",
    "\n",
    "amazon_df = pd.read_table(filepath, sep='\\t', names=('Comment', 'Sentiment'),\n",
    "                   dtype={'Comment': np.str, 'Sentiment': np.int64})"
   ]
  },
  {
   "cell_type": "code",
   "execution_count": 253,
   "metadata": {},
   "outputs": [],
   "source": [
    "#Creating features\n",
    "\n",
    "df2 = amazon_df.copy()\n",
    "\n",
    "keywords = ['amazing', 'love', 'recommend', 'great', 'pleasure', 'good','excellent', 'happy','impressed', \n",
    "            'fav', 'enjoy', 'wow', '!', 'awesome', 'nice', 'regular']\n",
    "\n",
    "for key in keywords:\n",
    "    df2[key] = df['Comment'].str.contains(key, case=False)\n",
    "        \n",
    "#Create column of comment lengths\n",
    "\n",
    "for i in range(len(df2['Comment'])):\n",
    "    df2.loc[i,'length'] = len(df2.loc[i,'Comment'])\n",
    "    \n",
    "#Create columns of comment length quartiles, drop length column\n",
    "\n",
    "df2['len_q1'] = df2.length < df2.length.quantile(0.25)\n",
    "df2['len_q2'] = (df2.length > df2.length.quantile(0.25)) & (df2.length < df2.length.quantile(0.5))\n",
    "df2['len_q3'] = (df2.length > df2.length.quantile(0.5)) & (df2.length < df2.length.quantile(0.75))\n",
    "df2['len_q4'] = df2.length > df2.length.quantile(0.75)\n",
    "\n",
    "df2.drop(columns='length', inplace=True)"
   ]
  },
  {
   "cell_type": "code",
   "execution_count": 254,
   "metadata": {},
   "outputs": [
    {
     "data": {
      "text/plain": [
       "56.10000000000001"
      ]
     },
     "execution_count": 254,
     "metadata": {},
     "output_type": "execute_result"
    }
   ],
   "source": [
    "#Seperate into inputs and outputs, create model, predict\n",
    "\n",
    "data = df2[keywords + ['len_q1', 'len_q2', 'len_q3', 'len_q4']]\n",
    "target = df2['Sentiment']\n",
    "\n",
    "#Target variable is binomial, use Bernoulli Naive Bayes model\n",
    "\n",
    "from sklearn.naive_bayes import BernoulliNB\n",
    "\n",
    "bnb = BernoulliNB()\n",
    "\n",
    "#Fit data to model\n",
    "bnb.fit(data, target)\n",
    "\n",
    "#Make predictions\n",
    "\n",
    "predicted = bnb.predict(data)\n",
    "\n",
    "#Test predicted vs actual for each comment in df\n",
    "\n",
    "accuracy = df2['Sentiment'] == predicted\n",
    "accuracy.sum()/len(accuracy)*100"
   ]
  },
  {
   "cell_type": "markdown",
   "metadata": {},
   "source": [
    "# Testing the classifier against IMDB dataset"
   ]
  },
  {
   "cell_type": "code",
   "execution_count": 255,
   "metadata": {},
   "outputs": [],
   "source": [
    "filepath = '/home/derek/Thinkful/Data/imdb_labelled.txt'\n",
    "\n",
    "imdb_df = pd.read_table(filepath, sep='\\t', names=('Comment', 'Sentiment'),\n",
    "                   dtype={'Comment': np.str, 'Sentiment': np.int64})"
   ]
  },
  {
   "cell_type": "code",
   "execution_count": 262,
   "metadata": {},
   "outputs": [],
   "source": [
    "#Creating features\n",
    "\n",
    "df2 = imdb_df.copy()\n",
    "\n",
    "keywords = ['amazing', 'love', 'recommend', 'great', 'pleasure', 'good','excellent', 'happy','impressed', \n",
    "            'fav', 'enjoy', 'wow', '!', 'awesome', 'nice', 'regular']\n",
    "\n",
    "for key in keywords:\n",
    "    df2[key] = df['Comment'].str.contains(key, case=False)\n",
    "        \n",
    "#Create column of comment lengths\n",
    "\n",
    "for i in range(len(df2['Comment'])):\n",
    "    df2.loc[i,'length'] = len(df2.loc[i,'Comment'])\n",
    "    \n",
    "#Create columns of comment length quartiles, drop length column\n",
    "\n",
    "df2['len_q1'] = df2.length < df2.length.quantile(0.25)\n",
    "df2['len_q2'] = (df2.length > df2.length.quantile(0.25)) & (df2.length < df2.length.quantile(0.5))\n",
    "df2['len_q3'] = (df2.length > df2.length.quantile(0.5)) & (df2.length < df2.length.quantile(0.75))\n",
    "df2['len_q4'] = df2.length > df2.length.quantile(0.75)\n",
    "\n",
    "df2.drop(columns='length', inplace=True)"
   ]
  },
  {
   "cell_type": "code",
   "execution_count": 265,
   "metadata": {},
   "outputs": [
    {
     "data": {
      "text/plain": [
       "55.61497326203209"
      ]
     },
     "execution_count": 265,
     "metadata": {},
     "output_type": "execute_result"
    }
   ],
   "source": [
    "data = df2[keywords + ['len_q1', 'len_q2', 'len_q3', 'len_q4']]\n",
    "target = df2['Sentiment']\n",
    "\n",
    "#Target variable is binomial, use Bernoulli Naive Bayes model\n",
    "\n",
    "from sklearn.naive_bayes import BernoulliNB\n",
    "\n",
    "bnb = BernoulliNB()\n",
    "\n",
    "#Fit data to model\n",
    "bnb.fit(data, target)\n",
    "\n",
    "#Make predictions\n",
    "\n",
    "predicted = bnb.predict(data)\n",
    "\n",
    "#Test predicted vs actual for each comment in df\n",
    "\n",
    "accuracy = df2['Sentiment'] == predicted\n",
    "accuracy.sum()/len(accuracy)*100"
   ]
  }
 ],
 "metadata": {
  "kernelspec": {
   "display_name": "Python 3",
   "language": "python",
   "name": "python3"
  },
  "language_info": {
   "codemirror_mode": {
    "name": "ipython",
    "version": 3
   },
   "file_extension": ".py",
   "mimetype": "text/x-python",
   "name": "python",
   "nbconvert_exporter": "python",
   "pygments_lexer": "ipython3",
   "version": "3.6.8"
  }
 },
 "nbformat": 4,
 "nbformat_minor": 2
}
